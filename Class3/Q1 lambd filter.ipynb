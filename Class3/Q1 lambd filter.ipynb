{
 "cells": [
  {
   "cell_type": "markdown",
   "source": [
    "צור רשימה אשר תכיל 5 משתנים מסוג tuple\n",
    "כל tuple יכיל בתוכו 2 מספרים שלמים\n",
    "\n",
    "החזר רשימה שתכיל רק את ה-tuples אשר האיבר ה-2 שלהם מתחלק ב-3\n",
    "עליכם להשתמש ב-lambda ו-filter."
   ],
   "metadata": {
    "collapsed": false
   }
  },
  {
   "cell_type": "code",
   "execution_count": 10,
   "metadata": {
    "collapsed": true,
    "ExecuteTime": {
     "start_time": "2023-05-17T18:20:45.593568Z",
     "end_time": "2023-05-17T18:20:45.597227Z"
    }
   },
   "outputs": [
    {
     "name": "stdout",
     "output_type": "stream",
     "text": [
      "list ans = [(1, 12), (5, 6), (7, 9)]\n"
     ]
    }
   ],
   "source": [
    "list_of_tuples = [(1, 12), (3, 8), (5, 6), (7, 9), (9, 10)]\n",
    "\n",
    "list_ans = list(filter(lambda x: x if x[1] % 3 == 0 else None, list_of_tuples))\n",
    "print(f'list ans = {list_ans}')  # [(5,6)]"
   ]
  },
  {
   "cell_type": "markdown",
   "source": [],
   "metadata": {
    "collapsed": false
   }
  },
  {
   "cell_type": "markdown",
   "source": [],
   "metadata": {
    "collapsed": false
   }
  }
 ],
 "metadata": {
  "kernelspec": {
   "display_name": "Python 3",
   "language": "python",
   "name": "python3"
  },
  "language_info": {
   "codemirror_mode": {
    "name": "ipython",
    "version": 2
   },
   "file_extension": ".py",
   "mimetype": "text/x-python",
   "name": "python",
   "nbconvert_exporter": "python",
   "pygments_lexer": "ipython2",
   "version": "2.7.6"
  }
 },
 "nbformat": 4,
 "nbformat_minor": 0
}
