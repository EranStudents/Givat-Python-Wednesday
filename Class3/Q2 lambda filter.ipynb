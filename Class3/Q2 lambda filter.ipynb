{
 "cells": [
  {
   "cell_type": "markdown",
   "source": [
    "כתבו תוכנית אשר קולטת שמות של אנשים מהמשתמש לתוך רשימה (5 שמות) – מומלץ להשתמש ב-List compression על מנת לקצר את הקוד.\n",
    "\n",
    "עליכם להחזיר רשימה רק של:\n",
    "השמות שמתחילים באות גדולה וגם האורך שלהם הוא מעל 4\n",
    "או האות האחרונה שלהם היא אות קטנה"
   ],
   "metadata": {
    "collapsed": false
   }
  },
  {
   "cell_type": "code",
   "execution_count": null,
   "metadata": {
    "collapsed": true
   },
   "outputs": [],
   "source": [
    "# דרך 1 לקלוט משהו מהמשתמש\n",
    "names = [input(\"Enter a name:\") for i in range(5)]"
   ]
  },
  {
   "cell_type": "code",
   "execution_count": 1,
   "outputs": [
    {
     "name": "stdout",
     "output_type": "stream",
     "text": [
      "list_ans = ['Eran', 'AZRAN', 'YOTAM', 'barak']\n"
     ]
    }
   ],
   "source": [
    "# דרך 2 לקלוט משהו מהמשתמש\n",
    "names1 = []  # ליצור רשימה ריקה\n",
    "for i in range(5):\n",
    "    name = input(\"Enter your name:\")  # קבלת קלט מהמשתמש\n",
    "    names1.append(name)  # append = מוסיפה את האיבר לסוף הרשימה\n",
    "\n",
    "list_ans = list(filter(lambda x: x if x[0].isupper() and len(x) > 4 or x[-1].islower() else None, names1))\n",
    "\n",
    "print(f'list_ans = {list_ans}')"
   ],
   "metadata": {
    "collapsed": false,
    "ExecuteTime": {
     "start_time": "2023-05-17T19:08:01.027599Z",
     "end_time": "2023-05-17T19:08:38.054718Z"
    }
   }
  }
 ],
 "metadata": {
  "kernelspec": {
   "display_name": "Python 3",
   "language": "python",
   "name": "python3"
  },
  "language_info": {
   "codemirror_mode": {
    "name": "ipython",
    "version": 2
   },
   "file_extension": ".py",
   "mimetype": "text/x-python",
   "name": "python",
   "nbconvert_exporter": "python",
   "pygments_lexer": "ipython2",
   "version": "2.7.6"
  }
 },
 "nbformat": 4,
 "nbformat_minor": 0
}
